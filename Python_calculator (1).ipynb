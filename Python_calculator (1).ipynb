{
  "nbformat": 4,
  "nbformat_minor": 0,
  "metadata": {
    "colab": {
      "provenance": []
    },
    "kernelspec": {
      "name": "python3",
      "display_name": "Python 3"
    },
    "language_info": {
      "name": "python"
    }
  },
  "cells": [
    {
      "cell_type": "code",
      "execution_count": null,
      "metadata": {
        "colab": {
          "base_uri": "https://localhost:8080/"
        },
        "id": "gfoo9l666Da0",
        "outputId": "85773e19-e521-4cd3-d937-052336583e4d"
      },
      "outputs": [
        {
          "name": "stdout",
          "output_type": "stream",
          "text": [
            "Enter Two no.s\n",
            "Enter Number 134\n",
            "Enter Number 25\n",
            "Enter an Operation (+,-,*,/)-\n"
          ]
        }
      ],
      "source": [
        "#Calculator Code\n",
        "\n",
        "print(\"Enter Two no.s\")\n",
        "a=input(\"Enter Number 1\")\n",
        "b=input(\"Enter Number 2\")\n",
        "\n",
        "op= input(\"Enter an Operation (+,-,*,/)\")\n",
        "\n",
        "if(op==\"+\"):\n",
        "  c=float(a) + float(b)\n",
        "elif (op==\"-\"):\n",
        "  c=int(a)-int(b)  \n",
        "elif (op==\"*\"):\n",
        "  c=int(a)*int(b)\n",
        "elif (op==\"/\"):\n",
        "  c=float(a)/float(b)\n",
        "\n",
        "file = open(\"calc.txt\",\"a\")\n",
        "file.write(a + op + b + \"=\" )\n",
        "file.write(str(c)+'\\n')\n",
        "file.close()\n"
      ]
    },
    {
      "cell_type": "code",
      "source": [],
      "metadata": {
        "id": "xyNugFCZZlu2"
      },
      "execution_count": null,
      "outputs": []
    },
    {
      "cell_type": "code",
      "source": [],
      "metadata": {
        "id": "pbpos950ZmiD"
      },
      "execution_count": null,
      "outputs": []
    }
  ]
}